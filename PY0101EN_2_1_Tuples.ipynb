{
  "nbformat": 4,
  "nbformat_minor": 0,
  "metadata": {
    "kernelspec": {
      "display_name": "Python 3",
      "language": "python",
      "name": "python3"
    },
    "language_info": {
      "codemirror_mode": {
        "name": "ipython",
        "version": 3
      },
      "file_extension": ".py",
      "mimetype": "text/x-python",
      "name": "python",
      "nbconvert_exporter": "python",
      "pygments_lexer": "ipython3",
      "version": "3.7.6"
    },
    "colab": {
      "name": "PY0101EN-2-1-Tuples.ipynb",
      "provenance": [],
      "include_colab_link": true
    }
  },
  "cells": [
    {
      "cell_type": "markdown",
      "metadata": {
        "id": "view-in-github",
        "colab_type": "text"
      },
      "source": [
        "<a href=\"https://colab.research.google.com/github/matdac12/PyBasics/blob/master/PY0101EN_2_1_Tuples.ipynb\" target=\"_parent\"><img src=\"https://colab.research.google.com/assets/colab-badge.svg\" alt=\"Open In Colab\"/></a>"
      ]
    },
    {
      "cell_type": "markdown",
      "metadata": {
        "id": "lWS9wUyO9wL-",
        "colab_type": "text"
      },
      "source": [
        "<center>\n",
        "    <img src=\"https://s3-api.us-geo.objectstorage.softlayer.net/cf-courses-data/CognitiveClass/Logos/organization_logo/organization_logo.png\" width=\"300\" alt=\"cognitiveclass.ai logo\"  />\n",
        "</center>\n",
        "\n",
        "# Tuples in Python\n",
        "\n",
        "Estaimted time needed: **15** minutes\n",
        "\n",
        "## Objectives\n",
        "\n",
        "After complting this lab you will be able to:\n",
        "\n",
        "-   Perform the basics tuple operations in Python, including indexing, slicing and sorting\n"
      ]
    },
    {
      "cell_type": "markdown",
      "metadata": {
        "id": "alNA281T9wL_",
        "colab_type": "text"
      },
      "source": [
        "<h2>Table of Contents</h2>\n",
        "<div class=\"alert alert-block alert-info\" style=\"margin-top: 20px\">\n",
        "    <ul>\n",
        "        <li>\n",
        "            <a href=\"#dataset\">About the Dataset</a>\n",
        "        </li>\n",
        "        <li>\n",
        "            <a href=\"#tuple\">Tuples</a>\n",
        "            <ul>\n",
        "                <li><a href=\"index\">Indexing</a></li>\n",
        "                <li><a href=\"slice\">Slicing</a></li>\n",
        "                <li><a href=\"sort\">Sorting</a></li>\n",
        "            </ul>\n",
        "        </li>\n",
        "        <li>\n",
        "            <a href=\"#escape\">Quiz on Tuples</a>\n",
        "        </li>\n",
        "    </ul>\n",
        "    <p>\n",
        "        Estimated time needed: <strong>15 min</strong>\n",
        "    </p>\n",
        "</div>\n",
        "\n",
        "<hr>\n"
      ]
    },
    {
      "cell_type": "markdown",
      "metadata": {
        "id": "PJz3qOsr9wL_",
        "colab_type": "text"
      },
      "source": [
        "<h2 id=\"dataset\">About the Dataset</h2>\n"
      ]
    },
    {
      "cell_type": "markdown",
      "metadata": {
        "id": "VIKy2h7F9wMA",
        "colab_type": "text"
      },
      "source": [
        "Imagine you received album recommendations from your friends and compiled all of the recommendations into a table, with specific information about each album.\n",
        "\n",
        "The table has one row for each movie and several columns:\n",
        "\n",
        "-   **artist** - Name of the artist\n",
        "-   **album** - Name of the album\n",
        "-   **released_year** - Year the album was released\n",
        "-   **length_min_sec** - Length of the album (hours,minutes,seconds)\n",
        "-   **genre** - Genre of the album\n",
        "-   **music_recording_sales_millions** - Music recording sales (millions in USD) on [SONG://DATABASE](http://www.song-database.com?cm_mmc=Email_Newsletter-_-Developer_Ed%2BTech-_-WW_WW-_-SkillsNetwork-Courses-IBMDeveloperSkillsNetwork-PY0101EN-SkillsNetwork-19487395&cm_mmca1=000026UJ&cm_mmca2=10006555&cm_mmca3=M12345678&cvosrc=email.Newsletter.M12345678&cvo_campaign=000026UJ&cm_mmc=Email_Newsletter-_-Developer_Ed%2BTech-_-WW_WW-_-SkillsNetwork-Courses-IBMDeveloperSkillsNetwork-PY0101EN-SkillsNetwork-19487395&cm_mmca1=000026UJ&cm_mmca2=10006555&cm_mmca3=M12345678&cvosrc=email.Newsletter.M12345678&cvo_campaign=000026UJ&cm_mmc=Email_Newsletter-_-Developer_Ed%2BTech-_-WW_WW-_-SkillsNetwork-Courses-IBMDeveloperSkillsNetwork-PY0101EN-SkillsNetwork-19487395&cm_mmca1=000026UJ&cm_mmca2=10006555&cm_mmca3=M12345678&cvosrc=email.Newsletter.M12345678&cvo_campaign=000026UJ)\n",
        "-   **claimed_sales_millions** - Album's claimed sales (millions in USD) on [SONG://DATABASE](http://www.song-database.com?cm_mmc=Email_Newsletter-_-Developer_Ed%2BTech-_-WW_WW-_-SkillsNetwork-Courses-IBMDeveloperSkillsNetwork-PY0101EN-SkillsNetwork-19487395&cm_mmca1=000026UJ&cm_mmca2=10006555&cm_mmca3=M12345678&cvosrc=email.Newsletter.M12345678&cvo_campaign=000026UJ)\n",
        "-   **date_released** - Date on which the album was released\n",
        "-   **soundtrack** - Indicates if the album is the movie soundtrack (Y) or (N)\n",
        "-   **rating_of_friends** - Indicates the rating from your friends from 1 to 10\n",
        "    <br>\n",
        "    <br>\n",
        "\n",
        "The dataset can be seen below:\n",
        "\n",
        "<font size=\"1\">\n",
        "<table font-size:xx-small>\n",
        "  <tr>\n",
        "    <th>Artist</th>\n",
        "    <th>Album</th> \n",
        "    <th>Released</th>\n",
        "    <th>Length</th>\n",
        "    <th>Genre</th> \n",
        "    <th>Music recording sales (millions)</th>\n",
        "    <th>Claimed sales (millions)</th>\n",
        "    <th>Released</th>\n",
        "    <th>Soundtrack</th>\n",
        "    <th>Rating (friends)</th>\n",
        "  </tr>\n",
        "  <tr>\n",
        "    <td>Michael Jackson</td>\n",
        "    <td>Thriller</td> \n",
        "    <td>1982</td>\n",
        "    <td>00:42:19</td>\n",
        "    <td>Pop, rock, R&B</td>\n",
        "    <td>46</td>\n",
        "    <td>65</td>\n",
        "    <td>30-Nov-82</td>\n",
        "    <td></td>\n",
        "    <td>10.0</td>\n",
        "  </tr>\n",
        "  <tr>\n",
        "    <td>AC/DC</td>\n",
        "    <td>Back in Black</td> \n",
        "    <td>1980</td>\n",
        "    <td>00:42:11</td>\n",
        "    <td>Hard rock</td>\n",
        "    <td>26.1</td>\n",
        "    <td>50</td>\n",
        "    <td>25-Jul-80</td>\n",
        "    <td></td>\n",
        "    <td>8.5</td>\n",
        "  </tr>\n",
        "    <tr>\n",
        "    <td>Pink Floyd</td>\n",
        "    <td>The Dark Side of the Moon</td> \n",
        "    <td>1973</td>\n",
        "    <td>00:42:49</td>\n",
        "    <td>Progressive rock</td>\n",
        "    <td>24.2</td>\n",
        "    <td>45</td>\n",
        "    <td>01-Mar-73</td>\n",
        "    <td></td>\n",
        "    <td>9.5</td>\n",
        "  </tr>\n",
        "    <tr>\n",
        "    <td>Whitney Houston</td>\n",
        "    <td>The Bodyguard</td> \n",
        "    <td>1992</td>\n",
        "    <td>00:57:44</td>\n",
        "    <td>Soundtrack/R&B, soul, pop</td>\n",
        "    <td>26.1</td>\n",
        "    <td>50</td>\n",
        "    <td>25-Jul-80</td>\n",
        "    <td>Y</td>\n",
        "    <td>7.0</td>\n",
        "  </tr>\n",
        "    <tr>\n",
        "    <td>Meat Loaf</td>\n",
        "    <td>Bat Out of Hell</td> \n",
        "    <td>1977</td>\n",
        "    <td>00:46:33</td>\n",
        "    <td>Hard rock, progressive rock</td>\n",
        "    <td>20.6</td>\n",
        "    <td>43</td>\n",
        "    <td>21-Oct-77</td>\n",
        "    <td></td>\n",
        "    <td>7.0</td>\n",
        "  </tr>\n",
        "    <tr>\n",
        "    <td>Eagles</td>\n",
        "    <td>Their Greatest Hits (1971-1975)</td> \n",
        "    <td>1976</td>\n",
        "    <td>00:43:08</td>\n",
        "    <td>Rock, soft rock, folk rock</td>\n",
        "    <td>32.2</td>\n",
        "    <td>42</td>\n",
        "    <td>17-Feb-76</td>\n",
        "    <td></td>\n",
        "    <td>9.5</td>\n",
        "  </tr>\n",
        "    <tr>\n",
        "    <td>Bee Gees</td>\n",
        "    <td>Saturday Night Fever</td> \n",
        "    <td>1977</td>\n",
        "    <td>1:15:54</td>\n",
        "    <td>Disco</td>\n",
        "    <td>20.6</td>\n",
        "    <td>40</td>\n",
        "    <td>15-Nov-77</td>\n",
        "    <td>Y</td>\n",
        "    <td>9.0</td>\n",
        "  </tr>\n",
        "    <tr>\n",
        "    <td>Fleetwood Mac</td>\n",
        "    <td>Rumours</td> \n",
        "    <td>1977</td>\n",
        "    <td>00:40:01</td>\n",
        "    <td>Soft rock</td>\n",
        "    <td>27.9</td>\n",
        "    <td>40</td>\n",
        "    <td>04-Feb-77</td>\n",
        "    <td></td>\n",
        "    <td>9.5</td>\n",
        "  </tr>\n",
        "</table></font>\n"
      ]
    },
    {
      "cell_type": "markdown",
      "metadata": {
        "id": "O6j4b_Cd9wMB",
        "colab_type": "text"
      },
      "source": [
        "<hr>\n"
      ]
    },
    {
      "cell_type": "markdown",
      "metadata": {
        "id": "XDGQ8KCQ9wMB",
        "colab_type": "text"
      },
      "source": [
        "<h2 id=\"tuple\">Tuples</h2>\n"
      ]
    },
    {
      "cell_type": "markdown",
      "metadata": {
        "id": "jOXLIsRS9wMC",
        "colab_type": "text"
      },
      "source": [
        "In Python, there are different data types: string, integer and float. These data types can all be contained in a tuple as follows:\n"
      ]
    },
    {
      "cell_type": "markdown",
      "metadata": {
        "id": "mItsPwsS9wMC",
        "colab_type": "text"
      },
      "source": [
        "<img src=\"https://s3-api.us-geo.objectstorage.softlayer.net/cf-courses-data/CognitiveClass/PY0101EN/Chapter%202/Images/TuplesType.png\" width=\"750\" align=\"center\" />\n"
      ]
    },
    {
      "cell_type": "markdown",
      "metadata": {
        "id": "2h78mx929wMC",
        "colab_type": "text"
      },
      "source": [
        "Now, let us create your first tuple with string, integer and float.\n"
      ]
    },
    {
      "cell_type": "code",
      "metadata": {
        "id": "5kibuPC19wMD",
        "colab_type": "code",
        "colab": {
          "base_uri": "https://localhost:8080/",
          "height": 34
        },
        "outputId": "2ee2647d-bedf-4fb7-ce02-a6f560e6d4a0"
      },
      "source": [
        "# Create your first tuple\n",
        "\n",
        "tuple1 = (\"disco\",10,1.2 )\n",
        "tuple1"
      ],
      "execution_count": 1,
      "outputs": [
        {
          "output_type": "execute_result",
          "data": {
            "text/plain": [
              "('disco', 10, 1.2)"
            ]
          },
          "metadata": {
            "tags": []
          },
          "execution_count": 1
        }
      ]
    },
    {
      "cell_type": "markdown",
      "metadata": {
        "id": "9AgFJUjm9wMG",
        "colab_type": "text"
      },
      "source": [
        "The type of variable is a **tuple**. \n"
      ]
    },
    {
      "cell_type": "code",
      "metadata": {
        "id": "-e08isiT9wMG",
        "colab_type": "code",
        "colab": {
          "base_uri": "https://localhost:8080/",
          "height": 34
        },
        "outputId": "499cbf2b-fe28-4a93-d74d-77c19db846bf"
      },
      "source": [
        "# Print the type of the tuple you created\n",
        "\n",
        "type(tuple1)"
      ],
      "execution_count": 2,
      "outputs": [
        {
          "output_type": "execute_result",
          "data": {
            "text/plain": [
              "tuple"
            ]
          },
          "metadata": {
            "tags": []
          },
          "execution_count": 2
        }
      ]
    },
    {
      "cell_type": "markdown",
      "metadata": {
        "id": "1FJ19wmm9wMI",
        "colab_type": "text"
      },
      "source": [
        "<h3 id=\"index\">Indexing</h3>\n"
      ]
    },
    {
      "cell_type": "markdown",
      "metadata": {
        "id": "54cQzDgM9wMI",
        "colab_type": "text"
      },
      "source": [
        " Each element of a tuple can be accessed via an index. The following table represents the relationship between the index and the items in the tuple. Each element can be obtained by the name of the tuple followed by a square bracket with the index number:\n"
      ]
    },
    {
      "cell_type": "markdown",
      "metadata": {
        "id": "uLYz8w2d9wMJ",
        "colab_type": "text"
      },
      "source": [
        "<img src=\"https://s3-api.us-geo.objectstorage.softlayer.net/cf-courses-data/CognitiveClass/PY0101EN/Chapter%202/Images/TuplesIndex.gif\" width=\"750\" align=\"center\">\n"
      ]
    },
    {
      "cell_type": "markdown",
      "metadata": {
        "id": "DKVLiLOS9wMJ",
        "colab_type": "text"
      },
      "source": [
        "We can print out each value in the tuple:\n"
      ]
    },
    {
      "cell_type": "code",
      "metadata": {
        "id": "T_V853P69wMJ",
        "colab_type": "code",
        "colab": {
          "base_uri": "https://localhost:8080/",
          "height": 68
        },
        "outputId": "e2137420-544b-451a-999f-b431bc344513"
      },
      "source": [
        "# Print the variable on each index\n",
        "\n",
        "print(tuple1[0])\n",
        "print(tuple1[1])\n",
        "print(tuple1[2])"
      ],
      "execution_count": 3,
      "outputs": [
        {
          "output_type": "stream",
          "text": [
            "disco\n",
            "10\n",
            "1.2\n"
          ],
          "name": "stdout"
        }
      ]
    },
    {
      "cell_type": "markdown",
      "metadata": {
        "id": "S3uf1AwW9wML",
        "colab_type": "text"
      },
      "source": [
        "We can print out the **type** of each value in the tuple:\n"
      ]
    },
    {
      "cell_type": "code",
      "metadata": {
        "id": "WIBScczH9wMM",
        "colab_type": "code",
        "colab": {
          "base_uri": "https://localhost:8080/",
          "height": 68
        },
        "outputId": "3ddaedba-0b0f-4c92-dae9-2b3f7b3d0b36"
      },
      "source": [
        "# Print the type of value on each index\n",
        "\n",
        "print(type(tuple1[0]))\n",
        "print(type(tuple1[1]))\n",
        "print(type(tuple1[2]))"
      ],
      "execution_count": 4,
      "outputs": [
        {
          "output_type": "stream",
          "text": [
            "<class 'str'>\n",
            "<class 'int'>\n",
            "<class 'float'>\n"
          ],
          "name": "stdout"
        }
      ]
    },
    {
      "cell_type": "markdown",
      "metadata": {
        "id": "G531hk_j9wMO",
        "colab_type": "text"
      },
      "source": [
        "We can also use negative indexing. We use the same table above with corresponding negative values:\n"
      ]
    },
    {
      "cell_type": "markdown",
      "metadata": {
        "id": "kVc3s0Qa9wMO",
        "colab_type": "text"
      },
      "source": [
        "<img src=\"https://s3-api.us-geo.objectstorage.softlayer.net/cf-courses-data/CognitiveClass/PY0101EN/Chapter%202/Images/TuplesNeg.png\" width=\"750\" align=\"center\">\n"
      ]
    },
    {
      "cell_type": "markdown",
      "metadata": {
        "id": "q2XObNWr9wMP",
        "colab_type": "text"
      },
      "source": [
        "We can obtain the last element as follows (this time we will not use the print statement to display the values):\n"
      ]
    },
    {
      "cell_type": "code",
      "metadata": {
        "id": "9ys8Qg969wMP",
        "colab_type": "code",
        "colab": {}
      },
      "source": [
        "# Use negative index to get the value of the last element\n",
        "\n",
        "tuple1[-1]"
      ],
      "execution_count": null,
      "outputs": []
    },
    {
      "cell_type": "markdown",
      "metadata": {
        "id": "1O4jcbq09wMR",
        "colab_type": "text"
      },
      "source": [
        "We can display the next two elements as follows:\n"
      ]
    },
    {
      "cell_type": "code",
      "metadata": {
        "id": "SNwA8_Ar9wMS",
        "colab_type": "code",
        "colab": {}
      },
      "source": [
        "# Use negative index to get the value of the second last element\n",
        "\n",
        "tuple1[-2]"
      ],
      "execution_count": null,
      "outputs": []
    },
    {
      "cell_type": "code",
      "metadata": {
        "id": "z-86oZ8f9wMT",
        "colab_type": "code",
        "colab": {}
      },
      "source": [
        "# Use negative index to get the value of the third last element\n",
        "\n",
        "tuple1[-3]"
      ],
      "execution_count": null,
      "outputs": []
    },
    {
      "cell_type": "markdown",
      "metadata": {
        "id": "APu13bXO9wMV",
        "colab_type": "text"
      },
      "source": [
        "<h3 id=\"concate\">Concatenate Tuples</h3>\n"
      ]
    },
    {
      "cell_type": "markdown",
      "metadata": {
        "id": "445-qLxD9wMV",
        "colab_type": "text"
      },
      "source": [
        "We can concatenate or combine tuples by using the **+** sign:\n"
      ]
    },
    {
      "cell_type": "code",
      "metadata": {
        "id": "dmxygTSm9wMW",
        "colab_type": "code",
        "colab": {}
      },
      "source": [
        "# Concatenate two tuples\n",
        "\n",
        "tuple2 = tuple1 + (\"hard rock\", 10)\n",
        "tuple2"
      ],
      "execution_count": null,
      "outputs": []
    },
    {
      "cell_type": "markdown",
      "metadata": {
        "id": "eBDrmSOM9wMY",
        "colab_type": "text"
      },
      "source": [
        "We can slice tuples obtaining multiple values as demonstrated by the figure below:\n"
      ]
    },
    {
      "cell_type": "markdown",
      "metadata": {
        "id": "gz5tcn6K9wMY",
        "colab_type": "text"
      },
      "source": [
        "<img src=\"https://s3-api.us-geo.objectstorage.softlayer.net/cf-courses-data/CognitiveClass/PY0101EN/Chapter%202/Images/TuplesSlice.gif\" width=\"750\" align=\"center\">\n"
      ]
    },
    {
      "cell_type": "markdown",
      "metadata": {
        "id": "AyIZvcqc9wMZ",
        "colab_type": "text"
      },
      "source": [
        "<h3 id=\"slice\">Slicing</h3>\n"
      ]
    },
    {
      "cell_type": "markdown",
      "metadata": {
        "id": "xPqnhIT_9wMZ",
        "colab_type": "text"
      },
      "source": [
        "We can slice tuples, obtaining new tuples with the corresponding elements: \n"
      ]
    },
    {
      "cell_type": "code",
      "metadata": {
        "id": "RxV8eWsQ9wMa",
        "colab_type": "code",
        "colab": {}
      },
      "source": [
        "# Slice from index 0 to index 2\n",
        "\n",
        "tuple2[0:3]"
      ],
      "execution_count": null,
      "outputs": []
    },
    {
      "cell_type": "markdown",
      "metadata": {
        "id": "8GYXF8u19wMb",
        "colab_type": "text"
      },
      "source": [
        "We can obtain the last two elements of the tuple:\n"
      ]
    },
    {
      "cell_type": "code",
      "metadata": {
        "id": "ptJ3KrbH9wMc",
        "colab_type": "code",
        "colab": {}
      },
      "source": [
        "# Slice from index 3 to index 4\n",
        "\n",
        "tuple2[3:5]"
      ],
      "execution_count": null,
      "outputs": []
    },
    {
      "cell_type": "markdown",
      "metadata": {
        "id": "u3TT0ioD9wMd",
        "colab_type": "text"
      },
      "source": [
        "We can obtain the length of a tuple using the length command: \n"
      ]
    },
    {
      "cell_type": "code",
      "metadata": {
        "id": "KdyJAd3W9wMe",
        "colab_type": "code",
        "colab": {}
      },
      "source": [
        "# Get the length of tuple\n",
        "\n",
        "len(tuple2)"
      ],
      "execution_count": null,
      "outputs": []
    },
    {
      "cell_type": "markdown",
      "metadata": {
        "id": "jdxxEpbb9wMg",
        "colab_type": "text"
      },
      "source": [
        "This figure shows the number of elements:\n"
      ]
    },
    {
      "cell_type": "markdown",
      "metadata": {
        "id": "H4CR3DCs9wMg",
        "colab_type": "text"
      },
      "source": [
        "<img src=\"https://s3-api.us-geo.objectstorage.softlayer.net/cf-courses-data/CognitiveClass/PY0101EN/Chapter%202/Images/TuplesElement.png\" width=\"750\" align=\"center\">\n"
      ]
    },
    {
      "cell_type": "markdown",
      "metadata": {
        "id": "hk343qEj9wMg",
        "colab_type": "text"
      },
      "source": [
        "<h3 id=\"sort\">Sorting</h3>\n"
      ]
    },
    {
      "cell_type": "markdown",
      "metadata": {
        "id": "yqq4M2Pf9wMh",
        "colab_type": "text"
      },
      "source": [
        " Consider the following tuple:\n"
      ]
    },
    {
      "cell_type": "code",
      "metadata": {
        "id": "L6yyYURB9wMh",
        "colab_type": "code",
        "colab": {}
      },
      "source": [
        "# A sample tuple\n",
        "\n",
        "Ratings = (0, 9, 6, 5, 10, 8, 9, 6, 2)"
      ],
      "execution_count": null,
      "outputs": []
    },
    {
      "cell_type": "markdown",
      "metadata": {
        "id": "hSgk891t9wMj",
        "colab_type": "text"
      },
      "source": [
        "We can sort the values in a tuple and save it to a new tuple: \n"
      ]
    },
    {
      "cell_type": "code",
      "metadata": {
        "id": "-rXLjK4p9wMk",
        "colab_type": "code",
        "colab": {}
      },
      "source": [
        "# Sort the tuple\n",
        "\n",
        "RatingsSorted = sorted(Ratings)\n",
        "RatingsSorted"
      ],
      "execution_count": null,
      "outputs": []
    },
    {
      "cell_type": "markdown",
      "metadata": {
        "id": "CgJxIELa9wMl",
        "colab_type": "text"
      },
      "source": [
        "<h3 id=\"nest\">Nested Tuple</h3>\n"
      ]
    },
    {
      "cell_type": "markdown",
      "metadata": {
        "id": "Mo7WBOiz9wMm",
        "colab_type": "text"
      },
      "source": [
        "A tuple can contain another tuple as well as other more complex data types. This process is called 'nesting'. Consider the following tuple with several elements: \n"
      ]
    },
    {
      "cell_type": "code",
      "metadata": {
        "id": "11bOnImN9wMm",
        "colab_type": "code",
        "colab": {}
      },
      "source": [
        "# Create a nest tuple\n",
        "\n",
        "NestedT =(1, 2, (\"pop\", \"rock\") ,(3,4),(\"disco\",(1,2)))"
      ],
      "execution_count": null,
      "outputs": []
    },
    {
      "cell_type": "markdown",
      "metadata": {
        "id": "NrAGc2-B9wMn",
        "colab_type": "text"
      },
      "source": [
        "Each element in the tuple including other tuples can be obtained via an index as shown in the figure:\n"
      ]
    },
    {
      "cell_type": "markdown",
      "metadata": {
        "id": "gFgLKgzn9wMo",
        "colab_type": "text"
      },
      "source": [
        "<img src=\"https://s3-api.us-geo.objectstorage.softlayer.net/cf-courses-data/CognitiveClass/PY0101EN/Chapter%202/Images/TuplesNestOne.png\" width=\"750\" align=\"center\">\n"
      ]
    },
    {
      "cell_type": "code",
      "metadata": {
        "id": "p1WQCNCg9wMo",
        "colab_type": "code",
        "colab": {}
      },
      "source": [
        "# Print element on each index\n",
        "\n",
        "print(\"Element 0 of Tuple: \", NestedT[0])\n",
        "print(\"Element 1 of Tuple: \", NestedT[1])\n",
        "print(\"Element 2 of Tuple: \", NestedT[2])\n",
        "print(\"Element 3 of Tuple: \", NestedT[3])\n",
        "print(\"Element 4 of Tuple: \", NestedT[4])"
      ],
      "execution_count": null,
      "outputs": []
    },
    {
      "cell_type": "markdown",
      "metadata": {
        "id": "TvJzrbyt9wMp",
        "colab_type": "text"
      },
      "source": [
        "We can use the second index to access other tuples as demonstrated in the figure:\n"
      ]
    },
    {
      "cell_type": "markdown",
      "metadata": {
        "id": "11KQArH79wMq",
        "colab_type": "text"
      },
      "source": [
        "<img src=\"https://s3-api.us-geo.objectstorage.softlayer.net/cf-courses-data/CognitiveClass/PY0101EN/Chapter%202/Images/TuplesNestTwo.png\" width=\"750\" align=\"center\">\n"
      ]
    },
    {
      "cell_type": "markdown",
      "metadata": {
        "id": "ss70LCXa9wMq",
        "colab_type": "text"
      },
      "source": [
        " We can access the nested tuples :\n"
      ]
    },
    {
      "cell_type": "code",
      "metadata": {
        "id": "VruMEnmO9wMq",
        "colab_type": "code",
        "colab": {}
      },
      "source": [
        "# Print element on each index, including nest indexes\n",
        "\n",
        "print(\"Element 2, 0 of Tuple: \",   NestedT[2][0])\n",
        "print(\"Element 2, 1 of Tuple: \",   NestedT[2][1])\n",
        "print(\"Element 3, 0 of Tuple: \",   NestedT[3][0])\n",
        "print(\"Element 3, 1 of Tuple: \",   NestedT[3][1])\n",
        "print(\"Element 4, 0 of Tuple: \",   NestedT[4][0])\n",
        "print(\"Element 4, 1 of Tuple: \",   NestedT[4][1])"
      ],
      "execution_count": null,
      "outputs": []
    },
    {
      "cell_type": "markdown",
      "metadata": {
        "id": "TJMaFckl9wMs",
        "colab_type": "text"
      },
      "source": [
        "We can access strings in the second nested tuples using a third index:\n"
      ]
    },
    {
      "cell_type": "code",
      "metadata": {
        "id": "B3Jeq9c29wMs",
        "colab_type": "code",
        "colab": {}
      },
      "source": [
        "# Print the first element in the second nested tuples\n",
        "\n",
        "NestedT[2][1][0]"
      ],
      "execution_count": null,
      "outputs": []
    },
    {
      "cell_type": "code",
      "metadata": {
        "id": "mtePb8s69wMu",
        "colab_type": "code",
        "colab": {}
      },
      "source": [
        "# Print the second element in the second nested tuples\n",
        "\n",
        "NestedT[2][1][1]"
      ],
      "execution_count": null,
      "outputs": []
    },
    {
      "cell_type": "markdown",
      "metadata": {
        "id": "cMSEuaXq9wMw",
        "colab_type": "text"
      },
      "source": [
        " We can use a tree to visualise the process. Each new index corresponds to a deeper level in the tree:\n"
      ]
    },
    {
      "cell_type": "markdown",
      "metadata": {
        "id": "kDFAufWp9wMw",
        "colab_type": "text"
      },
      "source": [
        "<img src=\"https://s3-api.us-geo.objectstorage.softlayer.net/cf-courses-data/CognitiveClass/PY0101EN/Chapter%202/Images/TuplesNestThree.gif\" width=\"750\" align=\"center\">\n"
      ]
    },
    {
      "cell_type": "markdown",
      "metadata": {
        "id": "L5OrXoO49wMw",
        "colab_type": "text"
      },
      "source": [
        "Similarly, we can access elements nested deeper in the tree with a fourth index:\n"
      ]
    },
    {
      "cell_type": "code",
      "metadata": {
        "id": "99wmZqqn9wMw",
        "colab_type": "code",
        "colab": {}
      },
      "source": [
        "# Print the first element in the second nested tuples\n",
        "\n",
        "NestedT[4][1][0]"
      ],
      "execution_count": null,
      "outputs": []
    },
    {
      "cell_type": "code",
      "metadata": {
        "id": "jwHisJew9wMy",
        "colab_type": "code",
        "colab": {}
      },
      "source": [
        "# Print the second element in the second nested tuples\n",
        "\n",
        "NestedT[4][1][1]"
      ],
      "execution_count": null,
      "outputs": []
    },
    {
      "cell_type": "markdown",
      "metadata": {
        "id": "VCmc3pNP9wMz",
        "colab_type": "text"
      },
      "source": [
        "The following figure shows the relationship of the tree and the element <code>NestedT[4][1][1]</code>:\n"
      ]
    },
    {
      "cell_type": "markdown",
      "metadata": {
        "id": "4XT8uyLq9wM0",
        "colab_type": "text"
      },
      "source": [
        "<img src=\"https://s3-api.us-geo.objectstorage.softlayer.net/cf-courses-data/CognitiveClass/PY0101EN/Chapter%202/Images/TuplesNestFour.gif\" width=\"750\" align=\"center\">\n"
      ]
    },
    {
      "cell_type": "markdown",
      "metadata": {
        "id": "TP6K42iH9wM0",
        "colab_type": "text"
      },
      "source": [
        "<h2 id=\"quiz\">Quiz on Tuples</h2>\n"
      ]
    },
    {
      "cell_type": "markdown",
      "metadata": {
        "id": "2wvlDhKj9wM0",
        "colab_type": "text"
      },
      "source": [
        "Consider the following tuple:\n"
      ]
    },
    {
      "cell_type": "code",
      "metadata": {
        "id": "cMYmDukD9wM0",
        "colab_type": "code",
        "colab": {
          "base_uri": "https://localhost:8080/",
          "height": 153
        },
        "outputId": "76f38616-6a2a-4d85-8d2a-4e9249c88b43"
      },
      "source": [
        "# sample tuple\n",
        "\n",
        "genres_tuple = (\"pop\", \"rock\", \"soul\", \"hard rock\", \"soft rock\", \\\n",
        "                \"R&B\", \"progressive rock\", \"disco\") \n",
        "genres_tuple"
      ],
      "execution_count": 5,
      "outputs": [
        {
          "output_type": "execute_result",
          "data": {
            "text/plain": [
              "('pop',\n",
              " 'rock',\n",
              " 'soul',\n",
              " 'hard rock',\n",
              " 'soft rock',\n",
              " 'R&B',\n",
              " 'progressive rock',\n",
              " 'disco')"
            ]
          },
          "metadata": {
            "tags": []
          },
          "execution_count": 5
        }
      ]
    },
    {
      "cell_type": "markdown",
      "metadata": {
        "id": "XCzHvDuw9wM2",
        "colab_type": "text"
      },
      "source": [
        "Find the length of the tuple, <code>genres_tuple</code>:\n"
      ]
    },
    {
      "cell_type": "code",
      "metadata": {
        "id": "v9b5RoMJ9wM2",
        "colab_type": "code",
        "colab": {
          "base_uri": "https://localhost:8080/",
          "height": 34
        },
        "outputId": "60593654-f883-4e48-a05b-1d0cfaba2ceb"
      },
      "source": [
        "# Write your code below and press Shift+Enter to execute\n",
        "len(genres_tuple)"
      ],
      "execution_count": 6,
      "outputs": [
        {
          "output_type": "execute_result",
          "data": {
            "text/plain": [
              "8"
            ]
          },
          "metadata": {
            "tags": []
          },
          "execution_count": 6
        }
      ]
    },
    {
      "cell_type": "code",
      "metadata": {
        "id": "XWN2DNBi-VhE",
        "colab_type": "code",
        "colab": {}
      },
      "source": [
        ""
      ],
      "execution_count": null,
      "outputs": []
    },
    {
      "cell_type": "markdown",
      "metadata": {
        "id": "MtHcfsxl9wM4",
        "colab_type": "text"
      },
      "source": [
        "<img src=\"https://s3-api.us-geo.objectstorage.softlayer.net/cf-courses-data/CognitiveClass/PY0101EN/Chapter%202/Images/TuplesQuiz.png\" width=\"1100\" align=\"center\">\n"
      ]
    },
    {
      "cell_type": "markdown",
      "metadata": {
        "id": "DnW0TMdi9wM4",
        "colab_type": "text"
      },
      "source": [
        "Double-click **here** for the solution.\n",
        "\n",
        "<!-- Your answer is below:\n",
        "len(genres_tuple)\n",
        "-->\n"
      ]
    },
    {
      "cell_type": "markdown",
      "metadata": {
        "id": "wueEVxVK9wM5",
        "colab_type": "text"
      },
      "source": [
        "Access the element, with respect to index 3: \n"
      ]
    },
    {
      "cell_type": "code",
      "metadata": {
        "id": "ezc0YCGQ9wM5",
        "colab_type": "code",
        "colab": {
          "base_uri": "https://localhost:8080/",
          "height": 35
        },
        "outputId": "045e6c15-eb8a-4a32-fb29-bc431dd299a5"
      },
      "source": [
        "# Write your code below and press Shift+Enter to execute\n",
        "genres_tuple[3]"
      ],
      "execution_count": 8,
      "outputs": [
        {
          "output_type": "execute_result",
          "data": {
            "application/vnd.google.colaboratory.intrinsic+json": {
              "type": "string"
            },
            "text/plain": [
              "'hard rock'"
            ]
          },
          "metadata": {
            "tags": []
          },
          "execution_count": 8
        }
      ]
    },
    {
      "cell_type": "code",
      "metadata": {
        "id": "1rZ0_SOG-e2G",
        "colab_type": "code",
        "colab": {}
      },
      "source": [
        ""
      ],
      "execution_count": null,
      "outputs": []
    },
    {
      "cell_type": "code",
      "metadata": {
        "id": "nYwWp8AE-aoq",
        "colab_type": "code",
        "colab": {}
      },
      "source": [
        ""
      ],
      "execution_count": null,
      "outputs": []
    },
    {
      "cell_type": "markdown",
      "metadata": {
        "id": "QSTqSnya9wM6",
        "colab_type": "text"
      },
      "source": [
        "Double-click **here** for the solution.\n",
        "\n",
        "<!-- Your answer is below:\n",
        "genres_tuple[3]\n",
        "-->\n"
      ]
    },
    {
      "cell_type": "markdown",
      "metadata": {
        "id": "oIp20CnJ9wM7",
        "colab_type": "text"
      },
      "source": [
        "Use slicing to obtain indexes 3, 4 and 5:\n"
      ]
    },
    {
      "cell_type": "code",
      "metadata": {
        "id": "ukfJroBz9wM7",
        "colab_type": "code",
        "colab": {
          "base_uri": "https://localhost:8080/",
          "height": 34
        },
        "outputId": "f1bcf2c8-125c-46c4-84b7-8e7f4164bdfa"
      },
      "source": [
        "# Write your code below and press Shift+Enter to execute\n",
        "genres_tuple[3:6]"
      ],
      "execution_count": 9,
      "outputs": [
        {
          "output_type": "execute_result",
          "data": {
            "text/plain": [
              "('hard rock', 'soft rock', 'R&B')"
            ]
          },
          "metadata": {
            "tags": []
          },
          "execution_count": 9
        }
      ]
    },
    {
      "cell_type": "code",
      "metadata": {
        "id": "XglDPPuF-jRM",
        "colab_type": "code",
        "colab": {}
      },
      "source": [
        ""
      ],
      "execution_count": null,
      "outputs": []
    },
    {
      "cell_type": "markdown",
      "metadata": {
        "id": "WSecNvAN9wM9",
        "colab_type": "text"
      },
      "source": [
        "Double-click **here** for the solution.\n",
        "\n",
        "<!-- Your answer is below:\n",
        "genres_tuple[3:6]\n",
        "-->\n"
      ]
    },
    {
      "cell_type": "markdown",
      "metadata": {
        "id": "oTkFkqVl9wM9",
        "colab_type": "text"
      },
      "source": [
        "Find the first two elements of the tuple <code>genres_tuple</code>:\n"
      ]
    },
    {
      "cell_type": "code",
      "metadata": {
        "id": "SC33wgKp9wM9",
        "colab_type": "code",
        "colab": {
          "base_uri": "https://localhost:8080/",
          "height": 34
        },
        "outputId": "2b8b9060-d548-4947-a2a7-04995a9a6442"
      },
      "source": [
        "# Write your code below and press Shift+Enter to execute\n",
        "genres_tuple[:2]"
      ],
      "execution_count": 10,
      "outputs": [
        {
          "output_type": "execute_result",
          "data": {
            "text/plain": [
              "('pop', 'rock')"
            ]
          },
          "metadata": {
            "tags": []
          },
          "execution_count": 10
        }
      ]
    },
    {
      "cell_type": "code",
      "metadata": {
        "id": "nsKL02t5-n5b",
        "colab_type": "code",
        "colab": {}
      },
      "source": [
        ""
      ],
      "execution_count": null,
      "outputs": []
    },
    {
      "cell_type": "markdown",
      "metadata": {
        "id": "raMKWdQW9wM-",
        "colab_type": "text"
      },
      "source": [
        "Double-click **here** for the solution.\n",
        "\n",
        "<!-- Your answer is below:\n",
        "genres_tuple[0:2]\n",
        "-->\n"
      ]
    },
    {
      "cell_type": "markdown",
      "metadata": {
        "id": "hvADtDDS9wM_",
        "colab_type": "text"
      },
      "source": [
        "Find the first index of <code>\"disco\"</code>:\n"
      ]
    },
    {
      "cell_type": "code",
      "metadata": {
        "id": "OVAyt0DJ9wM_",
        "colab_type": "code",
        "colab": {
          "base_uri": "https://localhost:8080/",
          "height": 34
        },
        "outputId": "b402494e-a652-4e4b-fd2d-f1b2dc687080"
      },
      "source": [
        "# Write your code below and press Shift+Enter to execute\n",
        "genres_tuple.index(\"disco\")"
      ],
      "execution_count": 12,
      "outputs": [
        {
          "output_type": "execute_result",
          "data": {
            "text/plain": [
              "7"
            ]
          },
          "metadata": {
            "tags": []
          },
          "execution_count": 12
        }
      ]
    },
    {
      "cell_type": "code",
      "metadata": {
        "id": "iE9WJlSc_IMh",
        "colab_type": "code",
        "colab": {}
      },
      "source": [
        ""
      ],
      "execution_count": null,
      "outputs": []
    },
    {
      "cell_type": "code",
      "metadata": {
        "id": "uLBkN5nY-u8A",
        "colab_type": "code",
        "colab": {}
      },
      "source": [
        ""
      ],
      "execution_count": null,
      "outputs": []
    },
    {
      "cell_type": "markdown",
      "metadata": {
        "id": "S93McqyJ9wNB",
        "colab_type": "text"
      },
      "source": [
        "Double-click **here** for the solution.\n",
        "\n",
        "<!-- Your answer is below:\n",
        "genres_tuple.index(\"disco\")\n",
        "-->\n"
      ]
    },
    {
      "cell_type": "markdown",
      "metadata": {
        "id": "ZbGVg-lK9wNB",
        "colab_type": "text"
      },
      "source": [
        "Generate a sorted List from the Tuple <code>C_tuple=(-5, 1, -3)</code>:\n"
      ]
    },
    {
      "cell_type": "code",
      "metadata": {
        "id": "kyrKeId59wNB",
        "colab_type": "code",
        "colab": {
          "base_uri": "https://localhost:8080/",
          "height": 34
        },
        "outputId": "558bc5b3-56c6-4197-b75a-76ed7096b183"
      },
      "source": [
        "# Write your code below and press Shift+Enter to execute\n",
        "C_tuple = (-5,1,-3)\n",
        "sorted(C_tuple)"
      ],
      "execution_count": 14,
      "outputs": [
        {
          "output_type": "execute_result",
          "data": {
            "text/plain": [
              "[-5, -3, 1]"
            ]
          },
          "metadata": {
            "tags": []
          },
          "execution_count": 14
        }
      ]
    },
    {
      "cell_type": "code",
      "metadata": {
        "id": "sOCaOTUd_YIW",
        "colab_type": "code",
        "colab": {}
      },
      "source": [
        ""
      ],
      "execution_count": null,
      "outputs": []
    },
    {
      "cell_type": "code",
      "metadata": {
        "id": "uwIY0gbD_SFH",
        "colab_type": "code",
        "colab": {}
      },
      "source": [
        ""
      ],
      "execution_count": null,
      "outputs": []
    },
    {
      "cell_type": "markdown",
      "metadata": {
        "id": "Kxe_92Ge9wNC",
        "colab_type": "text"
      },
      "source": [
        "Double-click **here** for the solution.\n",
        "\n",
        "<!-- Your answer is below:\n",
        "C_tuple = (-5, 1, -3)\n",
        "C_list = sorted(C_tuple)\n",
        "C_list\n",
        "-->\n"
      ]
    },
    {
      "cell_type": "markdown",
      "metadata": {
        "id": "Y069Z49Z9wND",
        "colab_type": "text"
      },
      "source": [
        "<hr>\n",
        "<h2>The last exercise!</h2>\n",
        "<p>Congratulations, you have completed your first lesson and hands-on lab in Python. However, there is one more thing you need to do. The Data Science community encourages sharing work. The best way to share and showcase your work is to share it on GitHub. By sharing your notebook on GitHub you are not only building your reputation with fellow data scientists, but you can also show it off when applying for a job. Even though this was your first piece of work, it is never too early to start building good habits. So, please read and follow <a href=\"https://cognitiveclass.ai/blog/data-scientists-stand-out-by-sharing-your-notebooks/\" target=\"_blank\">this article</a> to learn how to share your work.\n",
        "<hr>\n"
      ]
    },
    {
      "cell_type": "markdown",
      "metadata": {
        "id": "t4ApFfJV9wND",
        "colab_type": "text"
      },
      "source": [
        "## Author\n",
        "\n",
        "<a href=\"https://www.linkedin.com/in/joseph-s-50398b136/\" target=\"_blank\">Joseph Santarcangelo</a>\n",
        "\n",
        "## Other contributors\n",
        "\n",
        "<a href=\"www.linkedin.com/in/jiahui-mavis-zhou-a4537814a\">Mavis Zhou</a>\n",
        "\n",
        "## Change Log\n",
        "\n",
        "| Date (YYYY-MM-DD) | Version | Changed By | Change Description                 |\n",
        "| ----------------- | ------- | ---------- | ---------------------------------- |\n",
        "| 2020-08-26        | 2.0     | Lavanya    | Moved lab to course repo in GitLab |\n",
        "|                   |         |            |                                    |\n",
        "|                   |         |            |                                    |\n",
        "\n",
        "## <h3 align=\"center\"> © IBM Corporation 2020. All rights reserved. <h3/>\n"
      ]
    }
  ]
}